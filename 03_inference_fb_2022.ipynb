{
 "cells": [
  {
   "cell_type": "code",
   "execution_count": 1,
   "id": "2728e492",
   "metadata": {},
   "outputs": [],
   "source": [
    "import sklearn.model_selection as ms\n",
    "from sklearn.pipeline import Pipeline\n",
    "from sklearn.linear_model import LogisticRegression\n",
    "from sklearn.ensemble import RandomForestClassifier\n",
    "from sklearn.calibration import CalibratedClassifierCV\n",
    "from sklearn import metrics\n",
    "from sklearn.feature_extraction.text import CountVectorizer\n",
    "from sklearn.feature_extraction.text import TfidfTransformer\n",
    "import pandas as pd\n",
    "import numpy as np\n",
    "from joblib import dump, load"
   ]
  },
  {
   "cell_type": "code",
   "execution_count": 2,
   "id": "6e72b2cb",
   "metadata": {},
   "outputs": [],
   "source": [
    "# Input\n",
    "path_inference_data = \"../fb_2022/fb_2022_adid_text_clean.csv.gz\"\n",
    "path_inference_data_vars = \"../fb_2022/fb_2022_adid_var1.csv.gz\"\n",
    "path_model = \"models/party_clf.joblib\"\n",
    "\n",
    "# Output\n",
    "path_predictions = \"data/facebook/party_predictions_fb_2022.csv.gz\""
   ]
  },
  {
   "cell_type": "code",
   "execution_count": 3,
   "id": "dabb9d0b",
   "metadata": {},
   "outputs": [
    {
     "name": "stdout",
     "output_type": "stream",
     "text": [
      "Index(['ad_id', 'page_name', 'disclaimer', 'ad_creative_body',\n",
      "       'ad_creative_link_caption', 'ad_creative_link_title',\n",
      "       'ad_creative_link_description', 'google_asr_text', 'aws_ocr_text_img',\n",
      "       'aws_ocr_text_vid'],\n",
      "      dtype='object')\n"
     ]
    }
   ],
   "source": [
    "# Inference dataset\n",
    "df = pd.read_csv(path_inference_data, encoding='UTF-8', keep_default_na = False, dtype = 'str')\n",
    "print(df.columns)"
   ]
  },
  {
   "cell_type": "code",
   "execution_count": 4,
   "id": "57e45824",
   "metadata": {},
   "outputs": [],
   "source": [
    "# All fields\n",
    "cols = ['ad_creative_body', 'ad_creative_link_caption', 'ad_creative_link_description', 'ad_creative_link_title', 'aws_ocr_text_vid', 'aws_ocr_text_img', 'google_asr_text']\n",
    "# Combine and clean up\n",
    "df['combined'] = df[cols].apply(lambda row: ' '.join(row.values.astype(str)), axis=1)\n",
    "df['combined'] = df['combined'].str.strip()\n",
    "df['combined'] = df['combined'].str.replace(' +', ' ', regex = True) # Remove double (and triple etc.) whitespaces inside\n",
    "df = df[['ad_id', 'combined']]\n",
    "# Deduplicate by text to save time during inference\n",
    "df = df.groupby(['combined'])['ad_id'].apply(list)\n",
    "df = df.to_frame().reset_index()\n",
    "# Remove empty ads\n",
    "df = df[df['combined'] != \"\"]\n"
   ]
  },
  {
   "cell_type": "code",
   "execution_count": 5,
   "id": "9c623f35",
   "metadata": {},
   "outputs": [],
   "source": [
    "# Load model\n",
    "clf = load(path_model)\n",
    "\n",
    "# Predicted probabilities\n",
    "pp = clf.predict_proba(df['combined'])\n",
    "df['prob_dem'] = pp[:,0]\n",
    "df['prob_other'] = pp[:,1]\n",
    "df['prob_rep'] = pp[:,2]\n",
    "df['predicted_party_all'] = clf.classes_[np.argmax(pp, axis = 1)]\n",
    "\n",
    "df = df.explode('ad_id')\n"
   ]
  },
  {
   "cell_type": "code",
   "execution_count": 6,
   "id": "85a15193",
   "metadata": {},
   "outputs": [
    {
     "name": "stdout",
     "output_type": "stream",
     "text": [
      "Index(['ad_id', 'page_id', 'ad_creation_time', 'ad_delivery_start_time',\n",
      "       'ad_delivery_stop_time', 'spend', 'impressions', 'region_distribution',\n",
      "       'demographic_distribution', 'publisher_platforms', 'potential_reach',\n",
      "       'pd_id', 'wmp_media_type', 'aws_face_vid', 'aws_face_img'],\n",
      "      dtype='object')\n"
     ]
    }
   ],
   "source": [
    "df_vars = pd.read_csv(path_inference_data_vars, encoding='UTF-8')\n",
    "print(df_vars.columns)"
   ]
  },
  {
   "cell_type": "code",
   "execution_count": 7,
   "id": "bdd2fae9",
   "metadata": {},
   "outputs": [],
   "source": [
    "# Merge in pd_id\n",
    "df_vars = df_vars[['ad_id', 'pd_id']]\n",
    "df = df.merge(df_vars, on = 'ad_id')\n",
    "# Create a variable where all party classifications of a pd-id\n",
    "# are assigned by majority vote\n",
    "dft = df[['pd_id', 'predicted_party_all']]\n",
    "maj_vote = dft.groupby(['pd_id'])['predicted_party_all'].agg(pd.Series.mode)\n",
    "maj_vote = pd.DataFrame(maj_vote)\n",
    "maj_vote = maj_vote.reset_index()\n",
    "# In case of ties, make it OTHER\n",
    "maj_vote['predicted_party_all'][[f is not str for f in maj_vote['predicted_party_all'].apply(type)]] = 'OTHER'\n",
    "maj_vote.columns = ['pd_id', 'predicted_party_all_majvote']\n",
    "df = df.merge(maj_vote, how = 'left', on = 'pd_id')\n",
    "\n",
    "# Keep only the relevant variables\n",
    "df = df[['ad_id', 'prob_dem', 'prob_other', 'prob_rep', 'predicted_party_all', 'predicted_party_all_majvote']]"
   ]
  },
  {
   "cell_type": "code",
   "execution_count": 8,
   "id": "76ec59e3",
   "metadata": {},
   "outputs": [],
   "source": [
    "# Save\n",
    "df.to_csv(path_predictions, index = False)"
   ]
  },
  {
   "cell_type": "code",
   "execution_count": null,
   "id": "29ae9cff",
   "metadata": {},
   "outputs": [],
   "source": []
  }
 ],
 "metadata": {
  "kernelspec": {
   "display_name": "Python 3 (ipykernel)",
   "language": "python",
   "name": "python3"
  },
  "language_info": {
   "codemirror_mode": {
    "name": "ipython",
    "version": 3
   },
   "file_extension": ".py",
   "mimetype": "text/x-python",
   "name": "python",
   "nbconvert_exporter": "python",
   "pygments_lexer": "ipython3",
   "version": "3.10.13"
  }
 },
 "nbformat": 4,
 "nbformat_minor": 5
}
