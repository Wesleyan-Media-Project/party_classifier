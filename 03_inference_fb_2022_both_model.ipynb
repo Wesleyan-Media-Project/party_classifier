{
 "cells": [
  {
   "cell_type": "code",
   "execution_count": 1,
   "id": "4aa447d8",
   "metadata": {},
   "outputs": [],
   "source": [
    "import sklearn.model_selection as ms\n",
    "from sklearn.pipeline import Pipeline\n",
    "from sklearn.linear_model import LogisticRegression\n",
    "from sklearn import metrics\n",
    "from sklearn.feature_extraction.text import CountVectorizer\n",
    "from sklearn.feature_extraction.text import TfidfTransformer\n",
    "import pandas as pd\n",
    "import numpy as np\n",
    "from joblib import dump, load\n"
   ]
  },
  {
   "cell_type": "code",
   "execution_count": 2,
   "id": "b93c35e0",
   "metadata": {},
   "outputs": [],
   "source": [
    "# Input\n",
    "# This is the output text table at ad_id level for facebook ads from 2022\n",
    "# source : data-post-production/01-merge-results/01_merge_preprocessed_results\n",
    "path_inference_data = \"fb_2022_adid_text.csv.gz\"\n",
    "\n",
    "# This is the output table from the part of the data-post-production repo that merges\n",
    "# preprocessed results. \n",
    "# Source: data-post-production/01-merge-results/01_merge_preprocessed_results\n",
    "path_inference_data_vars = \"fb_2022_adid_var1.csv.gz\"\n",
    "\n",
    "path_model = \"models/party_clf_facebook_and_google_2020.joblib\"\n",
    "path_model_smooth = \"models/party_clf_facebook_and_google_2020_smooth.joblib\"\n",
    "\n",
    "# Output\n",
    "path_predictions = \"data/facebook/party_predictions_fb_2022_both_model.csv.gz\""
   ]
  },
  {
   "cell_type": "code",
   "execution_count": 3,
   "id": "fc6d1bd4",
   "metadata": {},
   "outputs": [],
   "source": [
    "# Inference dataset\n",
    "df = pd.read_csv(path_inference_data, encoding='UTF-8', keep_default_na = False, dtype = 'str')"
   ]
  },
  {
   "cell_type": "code",
   "execution_count": 4,
   "id": "aa9b7ad8",
   "metadata": {},
   "outputs": [],
   "source": [
    "# All fields\n",
    "cols = ['ad_creative_body', 'ad_creative_link_caption', 'ad_creative_link_description', 'ad_creative_link_title', 'aws_ocr_text_vid', 'aws_ocr_text_img', 'google_asr_text']\n",
    "# Combine and clean up\n",
    "df['combined'] = df[cols].apply(lambda row: ' '.join(row.values.astype(str)), axis=1)\n",
    "df['combined'] = df['combined'].str.strip()\n",
    "df['combined'] = df['combined'].str.replace(' +', ' ', regex = True) # Remove double (and triple etc.) whitespaces inside\n",
    "df = df[['ad_id', 'combined']]\n",
    "# Deduplicate by text to save time during inference\n",
    "df = df.groupby(['combined'])['ad_id'].apply(list)\n",
    "df = df.to_frame().reset_index()\n",
    "# Remove empty ads\n",
    "df = df[df['combined'] != \"\"]"
   ]
  },
  {
   "cell_type": "code",
   "execution_count": 5,
   "id": "bdbd48e6",
   "metadata": {},
   "outputs": [],
   "source": [
    "# Regular model\n",
    "# Load model\n",
    "clf = load(path_model)\n",
    "# Predicted probabilities\n",
    "pp = clf.predict_proba(df['combined'])\n",
    "df['prob_dem'] = pp[:,0]\n",
    "df['prob_rep'] = pp[:,1]\n"
   ]
  },
  {
   "cell_type": "code",
   "execution_count": 6,
   "id": "5432bf76",
   "metadata": {},
   "outputs": [],
   "source": [
    "# Smooth model\n",
    "# Load model\n",
    "clf_smooth = load(path_model_smooth)\n",
    "# Predicted probabilities\n",
    "pp = clf_smooth.predict_proba(df['combined'])\n",
    "df['prob_dem_smooth'] = pp[:,0]\n",
    "df['prob_rep_smooth'] = pp[:,1]\n",
    "\n",
    "df = df.explode('ad_id')\n",
    "\n",
    "# Keep only the relevant variables\n",
    "df = df[['ad_id', 'prob_dem', 'prob_rep', 'prob_dem_smooth', 'prob_rep_smooth']]"
   ]
  },
  {
   "cell_type": "code",
   "execution_count": 7,
   "id": "23188bc3",
   "metadata": {},
   "outputs": [],
   "source": [
    "# Save\n",
    "df.to_csv(path_predictions, index = False)"
   ]
  },
  {
   "cell_type": "code",
   "execution_count": null,
   "id": "9c845ff1",
   "metadata": {},
   "outputs": [],
   "source": []
  }
 ],
 "metadata": {
  "kernelspec": {
   "display_name": "Python 3 (ipykernel)",
   "language": "python",
   "name": "python3"
  },
  "language_info": {
   "codemirror_mode": {
    "name": "ipython",
    "version": 3
   },
   "file_extension": ".py",
   "mimetype": "text/x-python",
   "name": "python",
   "nbconvert_exporter": "python",
   "pygments_lexer": "ipython3",
   "version": "3.10.13"
  }
 },
 "nbformat": 4,
 "nbformat_minor": 5
}
